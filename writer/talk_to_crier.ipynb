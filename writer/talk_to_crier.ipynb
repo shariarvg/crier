{
 "cells": [
  {
   "cell_type": "code",
   "execution_count": 1,
   "metadata": {},
   "outputs": [],
   "source": [
    "import openai\n",
    "import sys\n",
    "from summarize import Summarizer"
   ]
  },
  {
   "cell_type": "code",
   "execution_count": 2,
   "metadata": {},
   "outputs": [],
   "source": [
    "with open(\"../../key.txt\", 'r') as f:\n",
    "    api_key = f.read().strip()\n",
    "\n",
    "client = openai.OpenAI(api_key=api_key)"
   ]
  },
  {
   "cell_type": "code",
   "execution_count": 3,
   "metadata": {},
   "outputs": [],
   "source": [
    "from assistant_interact import poll_done, request_content, get_content"
   ]
  },
  {
   "cell_type": "code",
   "execution_count": 4,
   "metadata": {},
   "outputs": [],
   "source": [
    "s = Summarizer('asst_dHVNmQY5xj6jIqbejjQpjkSb', 'beyond_surveys.pdf')\n"
   ]
  },
  {
   "cell_type": "code",
   "execution_count": 5,
   "metadata": {},
   "outputs": [
    {
     "data": {
      "text/plain": [
       "{'thread_id': 'thread_oBWhWBd9rNVlGm8vcfnuYCVn',\n",
       " 'file_id': 'file-DDHJsnVvfRYjV9kmtLFkUf',\n",
       " 'assistant_name': 'Article Summarizer',\n",
       " 'assistant_instructions': \"You are an AI that writes pop science articles about new research. Given the PDF of an article, you are meant to provide an article that is both entertaining and accessible.Your readers are generally interested in science, and are college-educated, but may not be knowledgeable about the exact discipline of the article. It's important to make use of the related work section of your article to provide an accessible background on the problem and past solutions\"}"
      ]
     },
     "execution_count": 5,
     "metadata": {},
     "output_type": "execute_result"
    }
   ],
   "source": [
    "s.send_messages(\"prompts.txt\")"
   ]
  },
  {
   "cell_type": "code",
   "execution_count": 6,
   "metadata": {},
   "outputs": [],
   "source": [
    "run = client.beta.threads.runs.create_and_poll(\n",
    "            thread_id=s.thread.id,\n",
    "            assistant_id=s.assistant_id\n",
    "        )\n"
   ]
  },
  {
   "cell_type": "code",
   "execution_count": 7,
   "metadata": {},
   "outputs": [
    {
     "data": {
      "text/plain": [
       "'completed'"
      ]
     },
     "execution_count": 7,
     "metadata": {},
     "output_type": "execute_result"
    }
   ],
   "source": [
    "run.status"
   ]
  },
  {
   "cell_type": "code",
   "execution_count": 8,
   "metadata": {},
   "outputs": [
    {
     "name": "stdout",
     "output_type": "stream",
     "text": [
      "**Unlocking the Door to Rural Prosperity: A High-Tech Approach to Mapping Wealth Inequality in China's Countryside**\n",
      "\n",
      "Have you ever wondered how different life could be just a few kilometers away in your own country's rural areas? In China, the tale of two countrysides reveals staggering differences, as researchers unveil using a clever blend of old-fashioned survey techniques and cutting-edge technology.\n",
      "\n",
      "Traditionally, the distribution and accumulation of wealth have been vital factors in shaping policies aimed at rural revitalization. Yet, the actual measurement and alignment of these wealth indicators with targeted policy applications have always been challenging, primarily because of the dynamic nature of rural wealth and the sheer geographic scale involved. Most methodologies—saddled with complex surveys and breathless censuses—are neither economically feasible nor sufficiently granular to unravel the intricate tapestry of rural wealth.\n",
      "\n",
      "Enter an innovative study by a team led by Weipan Xu from Sannong Data Inc., which might just change the game. The study leverages satellite imagery and street views to produce a high-precision map of rural household wealth across China . This ingenious approach marries the \"sky\" (satellite images) with the \"ground\" (street views), providing not just data, but a nuanced spatial understanding of wealth distribution .\n",
      "\n",
      "### The Road to Revolutionary Data Collection\n",
      "\n",
      "Think of their method as a digital magnifying glass scrutinizing the countryside from two angles. First, a dataset originated from broad rural household surveys providing a wealth of information on everything from income to home appliances. To amplify this data, the team captured 1.85 million street view images to interpret these indicators from the facets of the rural abodes themselves, drawing a direct correlation between the living conditions visible in these images and the surveyed wealth metrics【4:2†source】.\n",
      "\n",
      "This approach allowed the construction of a wealth prediction model that integrates these dual viewpoints to fine-map wealth down to the township level with remarkable granularity. In a refreshing twist, this method circumvents the limitations linked to traditional surveys, which are often costly, time-consuming, and limited in spatial coverage【4:2†source】.\n",
      "\n",
      "### The Findings: A Tale of Two Geographies\n",
      "\n",
      "Through this dual-lens analysis, the study revealed a vivid \"bimodal pattern\" in wealth distribution characterized by pronounced wealth concentration in the southern and eastern regions as opposed to the more modest counterparts in the north and west of China【4:3†source】. This spatial polarization paints a clear picture of inequality that could be instrumental in directing policy measures more effectively.\n",
      "\n",
      "### Implications that Resonate Beyond Borders\n",
      "\n",
      "The fallout from this kind of research transcends mere numbers and maps. It promises a tool for policymakers that could lead to more precise allocation of resources and tailored interventions aimed at rural upliftment. These insights align with global sustainability goals, indicating that the well-being of rural populations can be tangibly improved through informed decision-making .\n",
      "\n",
      "### Forward Look: A Blueprint for Rural Revival\n",
      "\n",
      "While the current study draws a detailed contemporary landscape of rural wealth in China, its applications hint at a broader relevance that might address rural disparities worldwide. The ongoing evolution of this research could eventually provide a template for global rural assessments, potentially influencing a wide array of socio-economic policies far beyond China's borders.\n",
      "\n",
      "This is not merely research; it's a potential beacon for global rural revitalization efforts. As technology and traditional methods converge, the roadmap for genuinely equitable rural development becomes clear, and perhaps, just within our reach.\n"
     ]
    }
   ],
   "source": [
    "messages = client.beta.threads.messages.list(thread_id=s.thread.id)\n",
    "backwards = []\n",
    "# Print assistant responses\n",
    "for msg in reversed(messages.data):\n",
    "    if msg.role == 'assistant':\n",
    "        print(msg.content[0].text.value)"
   ]
  },
  {
   "cell_type": "code",
   "execution_count": 26,
   "metadata": {},
   "outputs": [
    {
     "name": "stdout",
     "output_type": "stream",
     "text": [
      "Imagine living in a world where satellite images from space and photographs taken at street level could tell us stories about wealth distribution among people. This isn't a futuristic fantasy—it's the groundbreaking reality being explored to map economic disparities across rural China. How? By transforming these images into high-resolution data maps, revealing wealth patterns hidden from conventional surveys. Curious to explore how this blend of high-tech imagery and data science could unveil nuanced stories of inequality and guide effective policies? Dive into the journey of how technology meets rural economy for a clearer picture of China's wealth landscape!\n",
      "In the bustling world of technological advances, the marriage of high-end satellite imagery and street-level photographs is shaping a new frontier in economics. Subtitled \"Beyond Surveys: A High-Precision Wealth Inequality Mapping of China's Rural Households Derived from Satellite and Street View Imageries,\" this study navigates through complex economic terrains, uncovering the variegated wealth distribution peculiar to China's vast rural areas. \n",
      "\n",
      "The problem outlined in the paper centers on the challenge of accurately capturing the wealth distribution of rural households in China. Traditional manual survey methods are time-consuming, costly, and often yield insufficient data. Moreover, China's diverse and expansive rural landscape makes nationwide data collection even more daunting. To overcome these hurdles, the research combines satellite images and street view photos to create a computable, precise model for mapping wealth distribution.\n",
      "\n",
      "The method employed is innovative: it uses vast databases of high-resolution satellite images and street views, cross-referenced with national surveys, to identify and assess indicators of wealth such as housing construction, amenities, and even car ownership. By integrating \"sky\" imagery (satellites) with \"ground\" data (street views), the study crafts a seamless method for estimating household wealth down to the township level, offering a more dynamic and immediate snapshot of rural wealth than traditional methods could achieve.\n",
      "\n",
      "The findings demonstrate significant regional wealth disparities, specifically a bimodal distribution indicating wealth concentration in certain geographies—wealthier in the south and east, poorer in the north and west of China. This innovative approach not only addresses the shortcomings of older data collection methods but also provides more granular insights that can better inform policy makers looking to address rural inequality.\n",
      "\n",
      "By shattering the traditional bounds of survey methodology with its cutting-edge approach, this study not only bridges the gap between macro policy and microeconomic realities but also heightens the precision with which economic data can be analyzed and understood.\n",
      "This groundbreaking study offers a tantalizing glimpse into the future of economic planning and policy formulation, especially in the rural sectors of developing nations like China. By leveraging advanced imaging and data science, the researchers provide a high-resolution lens on wealth distribution that promises to revolutionize the way governments and organizations approach economic disparities and resource allocation. \n",
      "\n",
      "Such precise data allows for more targeted, efficient, and effective policies. For instance, identifying specific areas of poverty can lead to directed investments in infrastructure, education, or healthcare, rather than the broad, often inefficient solutions that have been the norm. Additionally, this methodology aligns with global improvement goals, such as the Sustainable Development Goals, by providing a robust tool to measure progress.\n",
      "\n",
      "However, the approach isn't without limitations. While satellite and street view imagery enable broad and rapid data collection, they can miss the nuanced, day-to-day human experiences that traditional surveys capture. Issues like subjective well-being or cultural dynamics are less apparent in these data types. Moreover, the technology's reliance on visibility means that elements not easily captured or seen from these perspectives—like underground resources or indoor economic activities—might be underrepresented in the data. Thus, while this technology is a significant leap forward, it complements rather than completely replaces traditional methods.\n",
      "\n",
      "Future enhancements might focus on integrating these new tools with traditional data sources to enrich and perhaps resolve some of the subtle distinctions and gaps inherent in each method independently. The continual refinement of machine learning models and the integration of more diverse data sets could also help paint even clearer pictures of rural wealth and economic conditions, making technology an ever more potent tool in the fight against inequality.\n",
      "As we reach the conclusion of this exploration into the innovative use of satellite and street view imagery to map wealth distribution in rural China, it's clear that the intersection of technology and social sciences holds remarkable potential. This study not only broadens our understanding of economic disparities but also enhances our capacity to address them through informed policy-making.\n",
      "\n",
      "Looking ahead, the researchers behind this pioneering work envisage further refining their models and expanding the scope of their data collection. Future efforts may include integrating additional socioeconomic factors and exploring new regions, which could provide deeper insights and more robust frameworks for tackling economic inequality.\n",
      "\n",
      "As we continue to navigate the complexities of global development, the insights derived from such advanced methodologies will undoubtedly play a crucial role in shaping strategies for sustainable growth and equitable wealth distribution. This research not only maps out the physical manifestations of wealth but also charts a course toward a more balanced and prosperous future for rural communities worldwide. So, let's stay tuned and watch how this blend of traditional knowledge and cutting-edge technology continues to evolve and make a difference in the world we live in.\n"
     ]
    }
   ],
   "source": [
    "for i in range(len(backwards)-1, -1, -1):\n",
    "    print(backwards[i])"
   ]
  },
  {
   "cell_type": "code",
   "execution_count": null,
   "metadata": {},
   "outputs": [],
   "source": []
  },
  {
   "cell_type": "code",
   "execution_count": 6,
   "metadata": {},
   "outputs": [
    {
     "name": "stdout",
     "output_type": "stream",
     "text": [
      "thread_0ArUu1FEPf2JZx0PFzdHdHsZ\n"
     ]
    }
   ],
   "source": [
    "thread_id = s.info['thread_id']\n",
    "print(thread_id)"
   ]
  },
  {
   "cell_type": "code",
   "execution_count": 83,
   "metadata": {},
   "outputs": [
    {
     "data": {
      "text/plain": [
       "'run_OJETH2eeJIsl7L5VcP4EdSAo'"
      ]
     },
     "execution_count": 83,
     "metadata": {},
     "output_type": "execute_result"
    }
   ],
   "source": [
    "client.beta.threads.runs.create_and_poll(\n",
    "            thread_id=thread_id,\n",
    "            assistant_id='asst_dHVNmQY5xj6jIqbejjQpjkSb'\n",
    ").id"
   ]
  },
  {
   "cell_type": "code",
   "execution_count": 53,
   "metadata": {},
   "outputs": [
    {
     "data": {
      "text/plain": [
       "True"
      ]
     },
     "execution_count": 53,
     "metadata": {},
     "output_type": "execute_result"
    }
   ],
   "source": [
    "poll_done(client, thread_id, 'run_XDIgnHbYS0GcAcRFFo1fIPc2')"
   ]
  },
  {
   "cell_type": "markdown",
   "metadata": {},
   "source": [
    "run_ids\n",
    "run_0sl04xTNhql1suh4LobfWK0X\n",
    "run_XDIgnHbYS0GcAcRFFo1fIPc2 run_Qfydl1msOwq3TmTDg9mSIjJM"
   ]
  },
  {
   "cell_type": "code",
   "execution_count": 79,
   "metadata": {},
   "outputs": [],
   "source": [
    "content = get_content(client, thread_id)"
   ]
  },
  {
   "cell_type": "code",
   "execution_count": 82,
   "metadata": {},
   "outputs": [
    {
     "data": {
      "text/plain": [
       "'The innovative use of satellite and street-view imagery to map rural household wealth in China has broad implications, both promising and challenging. This new methodology could transform policy-making processes, providing a high-resolution lens on wealth distribution that can guide more precise and effective resource allocation and rural revitalization efforts. It promises a significant upgrade over traditional survey methods—lowering costs, expanding reach, and providing timely data.\\n\\nHowever, several limitations must be acknowledged. First, the reliance on visible infrastructure markers and physical characteristics in imaging might overlook non-material aspects of wealth, such as access to services or informal economies that do not manifest physically. Moreover, the success of the method depends heavily on the availability and quality of imagery data, which can vary significantly across regions due to weather conditions, technological disparities, and data privacy regulations.\\n\\nFurthermore, this method hinges on sophisticated machine learning models that require continuous tuning and validation to remain accurate as economic conditions and external appearances evolve. As rural areas develop, the characteristics previously indicative of wealth may change, necessitating updates to the model and its underlying assumptions.\\n\\nDespite these challenges, this method holds a potent promise for enhancing our understanding and management of rural development issues. By providing higher resolution and more frequent updates on wealth distribution, policymakers can make more informed decisions, tailoring interventions to be more locally targeted and effective, and ultimately, helping bridge the urban-rural divide.\\n\\nAs we look to the future, continual technological advancements and improvements in data collection are likely to further enhance the accuracy and applicability of such models, making them even more integral to rural and economic planning strategies worldwide.'"
      ]
     },
     "execution_count": 82,
     "metadata": {},
     "output_type": "execute_result"
    }
   ],
   "source": [
    "content.data[0].content[0].text.value"
   ]
  },
  {
   "cell_type": "code",
   "execution_count": 12,
   "metadata": {},
   "outputs": [
    {
     "ename": "IndexError",
     "evalue": "list index out of range",
     "output_type": "error",
     "traceback": [
      "\u001b[0;31m---------------------------------------------------------------------------\u001b[0m",
      "\u001b[0;31mIndexError\u001b[0m                                Traceback (most recent call last)",
      "\u001b[0;32m/tmp/ipykernel_1148267/929283862.py\u001b[0m in \u001b[0;36m<module>\u001b[0;34m\u001b[0m\n\u001b[1;32m      1\u001b[0m \u001b[0mfinal_str\u001b[0m \u001b[0;34m=\u001b[0m \u001b[0;34m\"\"\u001b[0m\u001b[0;34m\u001b[0m\u001b[0;34m\u001b[0m\u001b[0m\n\u001b[1;32m      2\u001b[0m \u001b[0;32mfor\u001b[0m \u001b[0mcount\u001b[0m \u001b[0;32min\u001b[0m \u001b[0mrange\u001b[0m\u001b[0;34m(\u001b[0m\u001b[0mlen\u001b[0m\u001b[0;34m(\u001b[0m\u001b[0mcontent\u001b[0m\u001b[0;34m.\u001b[0m\u001b[0mdata\u001b[0m\u001b[0;34m)\u001b[0m\u001b[0;34m-\u001b[0m\u001b[0;36m1\u001b[0m\u001b[0;34m,\u001b[0m \u001b[0;36m0\u001b[0m\u001b[0;34m,\u001b[0m \u001b[0;34m-\u001b[0m\u001b[0;36m1\u001b[0m\u001b[0;34m)\u001b[0m\u001b[0;34m:\u001b[0m\u001b[0;34m\u001b[0m\u001b[0;34m\u001b[0m\u001b[0m\n\u001b[0;32m----> 3\u001b[0;31m     \u001b[0mfinal_str\u001b[0m \u001b[0;34m+=\u001b[0m \u001b[0mcontent\u001b[0m\u001b[0;34m.\u001b[0m\u001b[0mdata\u001b[0m\u001b[0;34m[\u001b[0m\u001b[0mcount\u001b[0m\u001b[0;34m]\u001b[0m\u001b[0;34m.\u001b[0m\u001b[0mcontent\u001b[0m\u001b[0;34m[\u001b[0m\u001b[0;36m1\u001b[0m\u001b[0;34m]\u001b[0m\u001b[0;34m.\u001b[0m\u001b[0mtext\u001b[0m\u001b[0;34m.\u001b[0m\u001b[0mvalue\u001b[0m \u001b[0;34m+\u001b[0m \u001b[0;34m\" \"\u001b[0m\u001b[0;34m\u001b[0m\u001b[0;34m\u001b[0m\u001b[0m\n\u001b[0m",
      "\u001b[0;31mIndexError\u001b[0m: list index out of range"
     ]
    }
   ],
   "source": [
    "final_str = \"\"\n",
    "for count in range(len(content.data)-1, 0, -1):\n",
    "    final_str += content.data[count].content[1].text.value + \" \""
   ]
  },
  {
   "cell_type": "code",
   "execution_count": 11,
   "metadata": {},
   "outputs": [
    {
     "name": "stdout",
     "output_type": "stream",
     "text": [
      "Write a hook for this article. The goal is to draw the reader, who may not be familiar with the research area, into the problem. Now, provide a pop science summary of this article's problem, methods, and finding. Remember to make it informative, engaging, and accessible. Write a section about the broader implications of this work. If there are noticeable limitations, also discuss those. Write an outro that concludes the article, optionally discussing future work only if it is signaled in the paper.  \n"
     ]
    }
   ],
   "source": [
    "print(final_str)"
   ]
  },
  {
   "cell_type": "code",
   "execution_count": 50,
   "metadata": {},
   "outputs": [
    {
     "data": {
      "text/plain": [
       "[Message(id='msg_u2g1I3seliv6y0KzQPjikmLF', assistant_id='asst_dHVNmQY5xj6jIqbejjQpjkSb', attachments=[], completed_at=None, content=[TextContentBlock(text=Text(annotations=[], value=\"Imagine a world where we can peer into the intricacies of rural wealth from space and street corners. The researchers in this study do exactly that, revolutionizing how we gauge and visualize wealth disparities in China's vast rural expanse. By merging the bird's-eye view of satellites with the ground truth of street images, they craft a compelling story of prosperity and poverty, challenging traditional survey methods, and unveiling a high-resolution tapestry of economic landscapes .\"), type='text')], created_at=1740147366, incomplete_at=None, incomplete_details=None, metadata={}, object='thread.message', role='assistant', run_id='run_0sl04xTNhql1suh4LobfWK0X', status=None, thread_id='thread_0ArUu1FEPf2JZx0PFzdHdHsZ'),\n",
       " Message(id='msg_UoOxHwVD4hloDkxeJD205GRy', assistant_id=None, attachments=[Attachment(file_id='file-8RkGJwwYiLg3bQjGyWVXkV', tools=[AttachmentToolAssistantToolsFileSearchTypeOnly(type='file_search')])], completed_at=None, content=[TextContentBlock(text=Text(annotations=[], value='Write an outro that concludes the article, optionally discussing future work only if it is signaled in the paper. '), type='text')], created_at=1740147336, incomplete_at=None, incomplete_details=None, metadata={}, object='thread.message', role='user', run_id=None, status=None, thread_id='thread_0ArUu1FEPf2JZx0PFzdHdHsZ'),\n",
       " Message(id='msg_40wgsxiL5jCMDTYBSg06TKvt', assistant_id=None, attachments=[Attachment(file_id='file-8RkGJwwYiLg3bQjGyWVXkV', tools=[AttachmentToolAssistantToolsFileSearchTypeOnly(type='file_search')])], completed_at=None, content=[TextContentBlock(text=Text(annotations=[], value='Write a section about the broader implications of this work. If there are noticeable limitations, also discuss those.'), type='text')], created_at=1740147335, incomplete_at=None, incomplete_details=None, metadata={}, object='thread.message', role='user', run_id=None, status=None, thread_id='thread_0ArUu1FEPf2JZx0PFzdHdHsZ'),\n",
       " Message(id='msg_k6it61rXjCbDXlD8tqwRaUxh', assistant_id=None, attachments=[Attachment(file_id='file-8RkGJwwYiLg3bQjGyWVXkV', tools=[AttachmentToolAssistantToolsFileSearchTypeOnly(type='file_search')])], completed_at=None, content=[TextContentBlock(text=Text(annotations=[], value=\"Now, provide a pop science summary of this article's problem, methods, and finding. Remember to make it informative, engaging, and accessible.\"), type='text')], created_at=1740147334, incomplete_at=None, incomplete_details=None, metadata={}, object='thread.message', role='user', run_id=None, status=None, thread_id='thread_0ArUu1FEPf2JZx0PFzdHdHsZ'),\n",
       " Message(id='msg_o6XoCaWvrsL1i58yQFBVZYbL', assistant_id=None, attachments=[Attachment(file_id='file-8RkGJwwYiLg3bQjGyWVXkV', tools=[AttachmentToolAssistantToolsFileSearchTypeOnly(type='file_search')])], completed_at=None, content=[TextContentBlock(text=Text(annotations=[], value='Write a hook for this article. The goal is to draw the reader, who may not be familiar with the research area, into the problem.'), type='text')], created_at=1740147333, incomplete_at=None, incomplete_details=None, metadata={}, object='thread.message', role='user', run_id=None, status=None, thread_id='thread_0ArUu1FEPf2JZx0PFzdHdHsZ')]"
      ]
     },
     "execution_count": 50,
     "metadata": {},
     "output_type": "execute_result"
    }
   ],
   "source": [
    "content.data"
   ]
  },
  {
   "cell_type": "code",
   "execution_count": 3,
   "metadata": {},
   "outputs": [],
   "source": [
    "with open(f\"prompts.txt\", 'r') as f:\n",
    "    prompts = f.read().splitlines()"
   ]
  },
  {
   "cell_type": "code",
   "execution_count": 4,
   "metadata": {},
   "outputs": [
    {
     "data": {
      "text/plain": [
       "['Write a hook for this article. The goal is to draw the reader, who may not be familiar with the research area, into the problem.',\n",
       " \"Now, provide a pop science summary of this article's problem, methods, and finding. Remember to make it informative, engaging, and accessible.\",\n",
       " 'Write a section about the broader implications of this work. If there are noticeable limitations, also discuss those.',\n",
       " 'Write an outro that concludes the article, optionally discussing future work only if it is signaled in the paper. ']"
      ]
     },
     "execution_count": 4,
     "metadata": {},
     "output_type": "execute_result"
    }
   ],
   "source": [
    "prompts"
   ]
  },
  {
   "cell_type": "code",
   "execution_count": null,
   "metadata": {},
   "outputs": [],
   "source": []
  }
 ],
 "metadata": {
  "kernelspec": {
   "display_name": "Python 3 (ipykernel)",
   "language": "python",
   "name": "python3"
  },
  "language_info": {
   "codemirror_mode": {
    "name": "ipython",
    "version": 3
   },
   "file_extension": ".py",
   "mimetype": "text/x-python",
   "name": "python",
   "nbconvert_exporter": "python",
   "pygments_lexer": "ipython3",
   "version": "3.10.12"
  }
 },
 "nbformat": 4,
 "nbformat_minor": 4
}
